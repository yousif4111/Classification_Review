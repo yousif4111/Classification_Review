{
 "cells": [
  {
   "cell_type": "code",
   "execution_count": 1,
   "id": "0b861709-f690-4632-b9f3-4040984dddbf",
   "metadata": {},
   "outputs": [],
   "source": [
    "# importing logistic regress\n",
    "from sklearn.linear_model import LogisticRegression\n",
    "\n",
    "# Initailizing LR\n",
    "LR= LogisticRegression(penalty=\"12\", C=10.0)\n",
    "\n",
    "# Fiting \n",
    "LR = LR.fit(X_train, y_train)\n",
    "\n",
    "# Getting the output Coefficients\n",
    "LR.coef_\n",
    "\n",
    "# Tune regularization parameters with cross-validation\n",
    "LogisticRegressionCV"
   ]
  },
  {
   "cell_type": "code",
   "execution_count": 3,
   "id": "689bb03c-2943-431e-85be-b5788786e4c0",
   "metadata": {},
   "outputs": [],
   "source": [
    "# Initailizing LR\n",
    "LR= LogisticRegression(penalty=\"12\", C=10.0)"
   ]
  },
  {
   "cell_type": "code",
   "execution_count": null,
   "id": "704511a2-ec1e-462f-a7c7-c2c8896d22ad",
   "metadata": {},
   "outputs": [],
   "source": []
  }
 ],
 "metadata": {
  "kernelspec": {
   "display_name": "Python 3 (ipykernel)",
   "language": "python",
   "name": "python3"
  },
  "language_info": {
   "codemirror_mode": {
    "name": "ipython",
    "version": 3
   },
   "file_extension": ".py",
   "mimetype": "text/x-python",
   "name": "python",
   "nbconvert_exporter": "python",
   "pygments_lexer": "ipython3",
   "version": "3.10.9"
  }
 },
 "nbformat": 4,
 "nbformat_minor": 5
}
